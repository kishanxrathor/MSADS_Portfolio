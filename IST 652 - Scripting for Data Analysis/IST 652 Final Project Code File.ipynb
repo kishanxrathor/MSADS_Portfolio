{
 "cells": [
  {
   "cell_type": "markdown",
   "metadata": {},
   "source": [
    "# **IST 652 – SCRIPTING FOR DATA ANALYSIS - FINAL PROJECT REPORT**\n",
    "# **INSIGHTS FROM A LOCAL BOOK STORE SALES DATA**\n",
    "\n",
    "* By **Kishan Rathor**\n",
    "\n",
    "* Under the guidance of **Professor Angela Ramnarine Rieks**"
   ]
  },
  {
   "cell_type": "markdown",
   "metadata": {},
   "source": [
    "# **Objective**\n",
    "\n",
    "As an individual researcher delving into the realm of data analytics, this project represents a significant endeavor to apply analytical skills to a real-world business context. The aim is to dissect and understand the multifaceted nature of a local bookstore's operations in Syracuse through the lens of data. Key objectives include:\n",
    "\n",
    "1. Uncovering Sales Trends and Patterns: Analyzing transaction data to identify key drivers of sales and customer purchasing behaviors.\n",
    "2. Enhancing Inventory Management: Utilizing data insights to optimize stock levels and manage inventory more effectively.\n",
    "3. Developing Strategic Business Recommendations: Drawing actionable insights from data to assist the bookstore in making informed decisions that could lead to improved profitability and customer engagement.\n",
    "\n",
    "This project seeks to blend theoretical knowledge with practical application, providing a comprehensive analysis that is both insightful and directly applicable to the bookstore's unique context.\n"
   ]
  },
  {
   "cell_type": "markdown",
   "metadata": {},
   "source": [
    "# **Background**\n",
    "\n",
    "The analysis is grounded in the examination of two detailed datasets, each offering a different perspective on the bookstore's transactions and operations:\n",
    "\n",
    "1. Old Data: This dataset comprises 801 entries, each representing a distinct transaction. Spanning 22 columns, it includes data on transaction dates, times, gross sales, discounts, service charges, net sales, payment methods, and more. This dataset gives a transaction-level view of the bookstore's sales, allowing for an analysis of sales trends, payment preferences, and customer spending behaviors.\n",
    "2. New Data: Complementing the first, this dataset is more extensive, with 4,448 entries. It covers 10 different columns, focusing on the date and time of transactions, item details, quantities, SKU, gross sales, discounts, net sales, tax, and units. This dataset offers a deeper dive into the specifics of what items are being sold, in what quantities, and their sales performance.\n",
    "\n",
    "Together, these datasets provide a rich, multi-dimensional view of the bookstore's sales and operations, encompassing a wide array of transactional details and customer interactions. The analysis aims to synthesize these datasets to draw a holistic picture of the bookstore's business dynamics, identifying patterns and opportunities for strategic improvements.\n"
   ]
  },
  {
   "cell_type": "markdown",
   "metadata": {},
   "source": [
    "# **Scope**\n",
    "\n",
    "The analysis encompasses two datasets, categorized into sales transactions and customer interactions. The 'New Data' set includes 4,448 entries with a focus on sales details such as item descriptions, quantities, and financials, while the 'Old Data' set comprises 801 entries detailing historical sales patterns, payment methods, and overall business performance before implementing new strategies.\n",
    "\n",
    "**Old Data Set Information:**\n",
    "* Date and Time: When transactions took place.\n",
    "* Sales Data: Including Gross Sales, Discounts, Net Sales, and Tax.\n",
    "* Payment Methods: Including Card, Cash, and Other Tender Types.\n",
    "* Transaction Details: Such as Service Charges, Total Collected, Fees, and Net Total.\n",
    "* Miscellaneous: Including Card Brand, Description, and various Fee-related columns.\n",
    "\n",
    "**New Data Set Information:**\n",
    "* Date and Time: When transactions took place.\n",
    "* Item Details: Item name, Quantity, and SKU.\n",
    "* Financials: Gross Sales, Discounts, Net Sales, and Tax.\n",
    "* Unit: Unit of measurement for items sold.\n",
    "\n"
   ]
  },
  {
   "cell_type": "markdown",
   "metadata": {},
   "source": [
    "# **Business Questions**\n",
    "\n",
    "1. Promotional Strategy Tailoring: How can we tailor promotional strategies to encourage the use of payment methods that are less frequently used?\n",
    "2. Staffing and Inventory Adjustments: How could staffing and inventory management be adjusted to accommodate the weekly sales cycle?\n",
    "3. Analysis of Sales Peaks and Troughs: What are the potential causes of sales peaks and troughs throughout the period?\n",
    "4. Alignment of Sales Trends with Marketing: How do monthly sales trends align with marketing efforts and inventory changes?\n",
    "5. Holiday Marketing Strategy Improvements: How can holiday marketing strategies be improved based on sales on Holidays?\n",
    "6. Pricing Strategy Optimization: How can we use the variability in quantity and total collected to optimize pricing strategies and inventory stocking?\n",
    "7. Promotional Activities Scheduling: Can promotional activities or special events be scheduled during lower-activity times to increase sales?\n"
   ]
  },
  {
   "cell_type": "markdown",
   "metadata": {
    "colab": {
     "base_uri": "https://localhost:8080/"
    },
    "id": "t87opw7T1__E",
    "outputId": "3c956e8a-0f2b-4ea6-e568-014af74ebedb"
   },
   "source": [
    "from google.colab import drive\n",
    "drive.mount('/content/drive')"
   ]
  },
  {
   "cell_type": "markdown",
   "metadata": {},
   "source": [
    "# **Data Analysis**\n",
    "\n",
    "**Data Acquisition**\n",
    "\n",
    "For this project, I was furnished with two datasets by the bookstore owner, which encapsulate a comprehensive record of the store’s sales and customer interactions. The datasets were imported into the Python environment using the Pandas library, a powerful tool for data manipulation and analysis. The first dataset, referred to as 'Old Data', consists of 801 entries across 22 columns, while the second dataset, 'New Data', contains 4,448 entries spanning 10 columns.\n",
    "\n"
   ]
  },
  {
   "cell_type": "markdown",
   "metadata": {
    "id": "WABcXxqAZkya"
   },
   "source": [
    "**Loading the Data**"
   ]
  },
  {
   "cell_type": "code",
   "execution_count": 3,
   "metadata": {
    "tags": []
   },
   "outputs": [
    {
     "name": "stdout",
     "output_type": "stream",
     "text": [
      "Collecting openpyxl\n",
      "  Downloading openpyxl-3.1.2-py2.py3-none-any.whl (249 kB)\n",
      "\u001b[2K     \u001b[90m━━━━━━━━━━━━━━━━━━━━━━━━━━━━━━━━━━━━━━━\u001b[0m \u001b[32m250.0/250.0 kB\u001b[0m \u001b[31m9.3 MB/s\u001b[0m eta \u001b[36m0:00:00\u001b[0m\n",
      "\u001b[?25hCollecting et-xmlfile (from openpyxl)\n",
      "  Downloading et_xmlfile-1.1.0-py3-none-any.whl (4.7 kB)\n",
      "Installing collected packages: et-xmlfile, openpyxl\n",
      "Successfully installed et-xmlfile-1.1.0 openpyxl-3.1.2\n",
      "Note: you may need to restart the kernel to use updated packages.\n"
     ]
    }
   ],
   "source": [
    "pip install openpyxl"
   ]
  },
  {
   "cell_type": "code",
   "execution_count": 4,
   "metadata": {
    "id": "VkdhpA8U4BFa",
    "tags": []
   },
   "outputs": [],
   "source": [
    "import pandas as pd\n",
    "\n",
    "old_data = pd.read_csv('Old Data.csv')\n",
    "new_data = pd.read_excel('New Data.xlsx')"
   ]
  },
  {
   "cell_type": "markdown",
   "metadata": {
    "id": "M_Dj8XDjaQnx"
   },
   "source": [
    "**Examining the Data Structure and types**"
   ]
  },
  {
   "cell_type": "code",
   "execution_count": 5,
   "metadata": {
    "colab": {
     "base_uri": "https://localhost:8080/"
    },
    "id": "xE0nykr4aNWH",
    "outputId": "1e5fc2f0-b3b0-484f-a8a7-1a52807c18b4"
   },
   "outputs": [
    {
     "name": "stdout",
     "output_type": "stream",
     "text": [
      "Old Data Info:\n",
      "<class 'pandas.core.frame.DataFrame'>\n",
      "RangeIndex: 801 entries, 0 to 800\n",
      "Data columns (total 22 columns):\n",
      " #   Column               Non-Null Count  Dtype  \n",
      "---  ------               --------------  -----  \n",
      " 0   Date                 801 non-null    object \n",
      " 1   Time                 801 non-null    object \n",
      " 2   Gross Sales          801 non-null    object \n",
      " 3   Discounts            801 non-null    object \n",
      " 4   Service Charges      801 non-null    object \n",
      " 5   Net Sales            801 non-null    object \n",
      " 6   Gift Card Sales      801 non-null    object \n",
      " 7   Tax                  801 non-null    object \n",
      " 8   Total Collected      801 non-null    object \n",
      " 9   Card                 801 non-null    object \n",
      " 10  Cash                 801 non-null    object \n",
      " 11  Other Tender Type    2 non-null      object \n",
      " 12  Other Tender Note    2 non-null      float64\n",
      " 13  Fees                 801 non-null    object \n",
      " 14  Net Total            801 non-null    object \n",
      " 15  Card Brand           459 non-null    object \n",
      " 16  Description          801 non-null    object \n",
      " 17  Initial Fees         801 non-null    object \n",
      " 18  Adjustment Fees      801 non-null    object \n",
      " 19  Fee Plan             459 non-null    object \n",
      " 20  Fee Percentage Rate  459 non-null    object \n",
      " 21  Fee Fixed Rate       459 non-null    object \n",
      "dtypes: float64(1), object(21)\n",
      "memory usage: 137.8+ KB\n"
     ]
    }
   ],
   "source": [
    "# Old Data\n",
    "print(\"Old Data Info:\")\n",
    "old_data.info()"
   ]
  },
  {
   "cell_type": "markdown",
   "metadata": {
    "id": "_3X8uTb4I1PU"
   },
   "source": [
    "**View the First Few Rows**"
   ]
  },
  {
   "cell_type": "code",
   "execution_count": 6,
   "metadata": {
    "colab": {
     "base_uri": "https://localhost:8080/",
     "height": 542
    },
    "id": "S2SmgWkSaGSh",
    "outputId": "9bea0227-d12b-4396-c69d-9fbc9aeb2ae8"
   },
   "outputs": [
    {
     "name": "stdout",
     "output_type": "stream",
     "text": [
      "Old Data - First Few Rows:\n"
     ]
    },
    {
     "data": {
      "text/html": [
       "<div>\n",
       "<style scoped>\n",
       "    .dataframe tbody tr th:only-of-type {\n",
       "        vertical-align: middle;\n",
       "    }\n",
       "\n",
       "    .dataframe tbody tr th {\n",
       "        vertical-align: top;\n",
       "    }\n",
       "\n",
       "    .dataframe thead th {\n",
       "        text-align: right;\n",
       "    }\n",
       "</style>\n",
       "<table border=\"1\" class=\"dataframe\">\n",
       "  <thead>\n",
       "    <tr style=\"text-align: right;\">\n",
       "      <th></th>\n",
       "      <th>Date</th>\n",
       "      <th>Time</th>\n",
       "      <th>Gross Sales</th>\n",
       "      <th>Discounts</th>\n",
       "      <th>Service Charges</th>\n",
       "      <th>Net Sales</th>\n",
       "      <th>Gift Card Sales</th>\n",
       "      <th>Tax</th>\n",
       "      <th>Total Collected</th>\n",
       "      <th>Card</th>\n",
       "      <th>...</th>\n",
       "      <th>Other Tender Note</th>\n",
       "      <th>Fees</th>\n",
       "      <th>Net Total</th>\n",
       "      <th>Card Brand</th>\n",
       "      <th>Description</th>\n",
       "      <th>Initial Fees</th>\n",
       "      <th>Adjustment Fees</th>\n",
       "      <th>Fee Plan</th>\n",
       "      <th>Fee Percentage Rate</th>\n",
       "      <th>Fee Fixed Rate</th>\n",
       "    </tr>\n",
       "  </thead>\n",
       "  <tbody>\n",
       "    <tr>\n",
       "      <th>0</th>\n",
       "      <td>2023-09-28</td>\n",
       "      <td>13:20:34</td>\n",
       "      <td>$10.00</td>\n",
       "      <td>$0.00</td>\n",
       "      <td>$0.00</td>\n",
       "      <td>$10.00</td>\n",
       "      <td>$0.00</td>\n",
       "      <td>$0.80</td>\n",
       "      <td>$10.80</td>\n",
       "      <td>$10.80</td>\n",
       "      <td>...</td>\n",
       "      <td>NaN</td>\n",
       "      <td>-$0.37</td>\n",
       "      <td>$10.43</td>\n",
       "      <td>Discover</td>\n",
       "      <td>447728</td>\n",
       "      <td>-$0.37</td>\n",
       "      <td>$0.00</td>\n",
       "      <td>Blended Rate</td>\n",
       "      <td>2.5</td>\n",
       "      <td>$0.10</td>\n",
       "    </tr>\n",
       "    <tr>\n",
       "      <th>1</th>\n",
       "      <td>2023-09-28</td>\n",
       "      <td>10:45:29</td>\n",
       "      <td>$47.50</td>\n",
       "      <td>$0.00</td>\n",
       "      <td>$0.00</td>\n",
       "      <td>$47.50</td>\n",
       "      <td>$0.00</td>\n",
       "      <td>$3.80</td>\n",
       "      <td>$51.30</td>\n",
       "      <td>$0.00</td>\n",
       "      <td>...</td>\n",
       "      <td>NaN</td>\n",
       "      <td>$0.00</td>\n",
       "      <td>$51.30</td>\n",
       "      <td>NaN</td>\n",
       "      <td>Custom Amount, Custom Amount, Custom Amount, C...</td>\n",
       "      <td>$0.00</td>\n",
       "      <td>$0.00</td>\n",
       "      <td>NaN</td>\n",
       "      <td>NaN</td>\n",
       "      <td>NaN</td>\n",
       "    </tr>\n",
       "    <tr>\n",
       "      <th>2</th>\n",
       "      <td>2023-09-28</td>\n",
       "      <td>10:17:10</td>\n",
       "      <td>$6.00</td>\n",
       "      <td>$0.00</td>\n",
       "      <td>$0.00</td>\n",
       "      <td>$6.00</td>\n",
       "      <td>$0.00</td>\n",
       "      <td>$0.48</td>\n",
       "      <td>$6.48</td>\n",
       "      <td>$0.00</td>\n",
       "      <td>...</td>\n",
       "      <td>NaN</td>\n",
       "      <td>$0.00</td>\n",
       "      <td>$6.48</td>\n",
       "      <td>NaN</td>\n",
       "      <td>442446</td>\n",
       "      <td>$0.00</td>\n",
       "      <td>$0.00</td>\n",
       "      <td>NaN</td>\n",
       "      <td>NaN</td>\n",
       "      <td>NaN</td>\n",
       "    </tr>\n",
       "    <tr>\n",
       "      <th>3</th>\n",
       "      <td>2023-09-27</td>\n",
       "      <td>15:52:00</td>\n",
       "      <td>$183.53</td>\n",
       "      <td>$0.00</td>\n",
       "      <td>$0.00</td>\n",
       "      <td>$183.53</td>\n",
       "      <td>$0.00</td>\n",
       "      <td>$14.68</td>\n",
       "      <td>$198.21</td>\n",
       "      <td>$0.00</td>\n",
       "      <td>...</td>\n",
       "      <td>NaN</td>\n",
       "      <td>$0.00</td>\n",
       "      <td>$198.21</td>\n",
       "      <td>NaN</td>\n",
       "      <td>444947, 417218, 463760, 459484, 448267, 411822...</td>\n",
       "      <td>$0.00</td>\n",
       "      <td>$0.00</td>\n",
       "      <td>NaN</td>\n",
       "      <td>NaN</td>\n",
       "      <td>NaN</td>\n",
       "    </tr>\n",
       "    <tr>\n",
       "      <th>4</th>\n",
       "      <td>2023-09-27</td>\n",
       "      <td>14:32:14</td>\n",
       "      <td>$16.00</td>\n",
       "      <td>$0.00</td>\n",
       "      <td>$0.00</td>\n",
       "      <td>$16.00</td>\n",
       "      <td>$0.00</td>\n",
       "      <td>$1.28</td>\n",
       "      <td>$17.28</td>\n",
       "      <td>$17.28</td>\n",
       "      <td>...</td>\n",
       "      <td>NaN</td>\n",
       "      <td>-$0.53</td>\n",
       "      <td>$16.75</td>\n",
       "      <td>American Express</td>\n",
       "      <td>463530, 292665, 413966</td>\n",
       "      <td>-$0.53</td>\n",
       "      <td>$0.00</td>\n",
       "      <td>Blended Rate</td>\n",
       "      <td>2.5</td>\n",
       "      <td>$0.10</td>\n",
       "    </tr>\n",
       "  </tbody>\n",
       "</table>\n",
       "<p>5 rows × 22 columns</p>\n",
       "</div>"
      ],
      "text/plain": [
       "         Date      Time Gross Sales Discounts Service Charges Net Sales  \\\n",
       "0  2023-09-28  13:20:34      $10.00     $0.00           $0.00    $10.00   \n",
       "1  2023-09-28  10:45:29      $47.50     $0.00           $0.00    $47.50   \n",
       "2  2023-09-28  10:17:10       $6.00     $0.00           $0.00     $6.00   \n",
       "3  2023-09-27  15:52:00     $183.53     $0.00           $0.00   $183.53   \n",
       "4  2023-09-27  14:32:14      $16.00     $0.00           $0.00    $16.00   \n",
       "\n",
       "  Gift Card Sales     Tax Total Collected    Card  ... Other Tender Note  \\\n",
       "0           $0.00   $0.80          $10.80  $10.80  ...               NaN   \n",
       "1           $0.00   $3.80          $51.30   $0.00  ...               NaN   \n",
       "2           $0.00   $0.48           $6.48   $0.00  ...               NaN   \n",
       "3           $0.00  $14.68         $198.21   $0.00  ...               NaN   \n",
       "4           $0.00   $1.28          $17.28  $17.28  ...               NaN   \n",
       "\n",
       "     Fees  Net Total        Card Brand  \\\n",
       "0  -$0.37     $10.43          Discover   \n",
       "1   $0.00     $51.30               NaN   \n",
       "2   $0.00      $6.48               NaN   \n",
       "3   $0.00    $198.21               NaN   \n",
       "4  -$0.53     $16.75  American Express   \n",
       "\n",
       "                                         Description Initial Fees  \\\n",
       "0                                             447728       -$0.37   \n",
       "1  Custom Amount, Custom Amount, Custom Amount, C...        $0.00   \n",
       "2                                             442446        $0.00   \n",
       "3  444947, 417218, 463760, 459484, 448267, 411822...        $0.00   \n",
       "4                             463530, 292665, 413966       -$0.53   \n",
       "\n",
       "  Adjustment Fees      Fee Plan Fee Percentage Rate Fee Fixed Rate  \n",
       "0           $0.00  Blended Rate                 2.5          $0.10  \n",
       "1           $0.00           NaN                 NaN            NaN  \n",
       "2           $0.00           NaN                 NaN            NaN  \n",
       "3           $0.00           NaN                 NaN            NaN  \n",
       "4           $0.00  Blended Rate                 2.5          $0.10  \n",
       "\n",
       "[5 rows x 22 columns]"
      ]
     },
     "execution_count": 6,
     "metadata": {},
     "output_type": "execute_result"
    }
   ],
   "source": [
    "# Old Data\n",
    "print(\"Old Data - First Few Rows:\")\n",
    "old_data.head()"
   ]
  },
  {
   "cell_type": "markdown",
   "metadata": {},
   "source": [
    "**Old Data Structure:**\n",
    "* Entries: 801\n",
    "* Columns: 22\n",
    "* Non-Null Count: The dataset is largely complete with few missing values.\n",
    "* Data Types: Primarily object (string) types, with one float column.\n",
    "* Columns of Note: The data includes transaction details such as 'Date', 'Time', 'Gross Sales', various fees, and payment methods ('Card', 'Cash', etc.).\n"
   ]
  },
  {
   "cell_type": "markdown",
   "metadata": {
    "id": "II_QBwSLfDfW"
   },
   "source": [
    "**Data Cleaning next steps for  - Old Data:**\n",
    "\n",
    "We're just gonna use this data set for analysis of Mode of Payment"
   ]
  },
  {
   "cell_type": "code",
   "execution_count": 7,
   "metadata": {
    "colab": {
     "base_uri": "https://localhost:8080/"
    },
    "id": "x2gb-D4eWJan",
    "outputId": "3dd531c2-5369-4fd0-c11d-19f8ce104f0b"
   },
   "outputs": [
    {
     "name": "stdout",
     "output_type": "stream",
     "text": [
      "\n",
      "New Data Info:\n",
      "<class 'pandas.core.frame.DataFrame'>\n",
      "RangeIndex: 4448 entries, 0 to 4447\n",
      "Data columns (total 10 columns):\n",
      " #   Column       Non-Null Count  Dtype         \n",
      "---  ------       --------------  -----         \n",
      " 0   Date         4447 non-null   datetime64[ns]\n",
      " 1   Time         4447 non-null   object        \n",
      " 2   Item         4447 non-null   object        \n",
      " 3   Qty          4448 non-null   int64         \n",
      " 4   SKU          2459 non-null   object        \n",
      " 5   Gross Sales  4448 non-null   float64       \n",
      " 6   Discounts    4448 non-null   float64       \n",
      " 7   Net Sales    4448 non-null   float64       \n",
      " 8   Tax          4448 non-null   float64       \n",
      " 9   Unit         4447 non-null   object        \n",
      "dtypes: datetime64[ns](1), float64(4), int64(1), object(4)\n",
      "memory usage: 347.6+ KB\n"
     ]
    }
   ],
   "source": [
    "# New Data\n",
    "print(\"\\nNew Data Info:\")\n",
    "new_data.info()"
   ]
  },
  {
   "cell_type": "code",
   "execution_count": 8,
   "metadata": {
    "colab": {
     "base_uri": "https://localhost:8080/",
     "height": 238
    },
    "id": "hnxwui1OWNN1",
    "outputId": "b3e566af-ee74-48d3-92d2-4f8fe015d76f"
   },
   "outputs": [
    {
     "name": "stdout",
     "output_type": "stream",
     "text": [
      "\n",
      "New Data - First Few Rows:\n"
     ]
    },
    {
     "data": {
      "text/html": [
       "<div>\n",
       "<style scoped>\n",
       "    .dataframe tbody tr th:only-of-type {\n",
       "        vertical-align: middle;\n",
       "    }\n",
       "\n",
       "    .dataframe tbody tr th {\n",
       "        vertical-align: top;\n",
       "    }\n",
       "\n",
       "    .dataframe thead th {\n",
       "        text-align: right;\n",
       "    }\n",
       "</style>\n",
       "<table border=\"1\" class=\"dataframe\">\n",
       "  <thead>\n",
       "    <tr style=\"text-align: right;\">\n",
       "      <th></th>\n",
       "      <th>Date</th>\n",
       "      <th>Time</th>\n",
       "      <th>Item</th>\n",
       "      <th>Qty</th>\n",
       "      <th>SKU</th>\n",
       "      <th>Gross Sales</th>\n",
       "      <th>Discounts</th>\n",
       "      <th>Net Sales</th>\n",
       "      <th>Tax</th>\n",
       "      <th>Unit</th>\n",
       "    </tr>\n",
       "  </thead>\n",
       "  <tbody>\n",
       "    <tr>\n",
       "      <th>0</th>\n",
       "      <td>2023-11-16</td>\n",
       "      <td>14:44:31</td>\n",
       "      <td>Custom Amount</td>\n",
       "      <td>1</td>\n",
       "      <td>NaN</td>\n",
       "      <td>3.0</td>\n",
       "      <td>0.0</td>\n",
       "      <td>3.0</td>\n",
       "      <td>0.24</td>\n",
       "      <td>ea</td>\n",
       "    </tr>\n",
       "    <tr>\n",
       "      <th>1</th>\n",
       "      <td>2023-11-16</td>\n",
       "      <td>14:44:31</td>\n",
       "      <td>Custom Amount</td>\n",
       "      <td>1</td>\n",
       "      <td>NaN</td>\n",
       "      <td>3.0</td>\n",
       "      <td>0.0</td>\n",
       "      <td>3.0</td>\n",
       "      <td>0.24</td>\n",
       "      <td>ea</td>\n",
       "    </tr>\n",
       "    <tr>\n",
       "      <th>2</th>\n",
       "      <td>2023-11-16</td>\n",
       "      <td>14:44:31</td>\n",
       "      <td>364131</td>\n",
       "      <td>1</td>\n",
       "      <td>Turkeys, Pilgrims, and Indian Corn:</td>\n",
       "      <td>4.0</td>\n",
       "      <td>0.0</td>\n",
       "      <td>4.0</td>\n",
       "      <td>0.32</td>\n",
       "      <td>ea</td>\n",
       "    </tr>\n",
       "    <tr>\n",
       "      <th>3</th>\n",
       "      <td>2023-11-16</td>\n",
       "      <td>14:44:31</td>\n",
       "      <td>458418</td>\n",
       "      <td>1</td>\n",
       "      <td>Child Life in Colonial Days</td>\n",
       "      <td>20.0</td>\n",
       "      <td>0.0</td>\n",
       "      <td>20.0</td>\n",
       "      <td>1.60</td>\n",
       "      <td>ea</td>\n",
       "    </tr>\n",
       "    <tr>\n",
       "      <th>4</th>\n",
       "      <td>2023-11-16</td>\n",
       "      <td>14:44:31</td>\n",
       "      <td>Custom Amount</td>\n",
       "      <td>3</td>\n",
       "      <td>NaN</td>\n",
       "      <td>9.0</td>\n",
       "      <td>0.0</td>\n",
       "      <td>9.0</td>\n",
       "      <td>0.72</td>\n",
       "      <td>ea</td>\n",
       "    </tr>\n",
       "  </tbody>\n",
       "</table>\n",
       "</div>"
      ],
      "text/plain": [
       "        Date      Time           Item  Qty  \\\n",
       "0 2023-11-16  14:44:31  Custom Amount    1   \n",
       "1 2023-11-16  14:44:31  Custom Amount    1   \n",
       "2 2023-11-16  14:44:31         364131    1   \n",
       "3 2023-11-16  14:44:31         458418    1   \n",
       "4 2023-11-16  14:44:31  Custom Amount    3   \n",
       "\n",
       "                                   SKU  Gross Sales  Discounts  Net Sales  \\\n",
       "0                                  NaN          3.0        0.0        3.0   \n",
       "1                                  NaN          3.0        0.0        3.0   \n",
       "2  Turkeys, Pilgrims, and Indian Corn:          4.0        0.0        4.0   \n",
       "3          Child Life in Colonial Days         20.0        0.0       20.0   \n",
       "4                                  NaN          9.0        0.0        9.0   \n",
       "\n",
       "    Tax Unit  \n",
       "0  0.24   ea  \n",
       "1  0.24   ea  \n",
       "2  0.32   ea  \n",
       "3  1.60   ea  \n",
       "4  0.72   ea  "
      ]
     },
     "execution_count": 8,
     "metadata": {},
     "output_type": "execute_result"
    }
   ],
   "source": [
    "# New Data\n",
    "print(\"\\nNew Data - First Few Rows:\")\n",
    "new_data.head()"
   ]
  },
  {
   "cell_type": "markdown",
   "metadata": {},
   "source": [
    "**New Data Structure:**\n",
    "* Entries: 4,448\n",
    "* Columns: 10\n",
    "* Non-Null Count: A higher count of missing values in 'SKU' column.\n",
    "* Data Types: A mix of datetime, float, integer, and object types.\n",
    "* Columns of Note: This dataset includes 'Item', 'Qty', 'Gross Sales', 'Net Sales', and 'Tax'."
   ]
  },
  {
   "cell_type": "markdown",
   "metadata": {
    "id": "BsV0uf1Dfb5O"
   },
   "source": [
    "**Data cleaning next steps for - New Data**\n",
    "- Datetime conversion of the Time Colmn\n",
    "- Monetary values are already in numeric format, so conversion not required\n",
    "- Drop 'Gross Sales' and 'Service Charges' columns.\n",
    "- Calculate 'Total Sales' as the sum of 'Net Sales' and 'Tax'.\n",
    "- Drop unnecessary columns like 'Initial Fees', 'Adjustment Fees', etc."
   ]
  },
  {
   "cell_type": "markdown",
   "metadata": {
    "id": "3YKZ7-o5jVMZ"
   },
   "source": [
    "# Initial Assessment"
   ]
  },
  {
   "cell_type": "markdown",
   "metadata": {
    "id": "EhfLN3R5bHEm"
   },
   "source": [
    "**Checking for Missing Values**\n",
    "\n",
    "**Old Data Missing Values:**\n",
    "* 'Other Tender Type' and 'Other Tender Note' had a significant number of missing values (799 out of 801).\n",
    "* 'Card Brand', 'Fee Plan', 'Fee Percentage Rate', and 'Fee Fixed Rate' had 342 missing values.\n",
    "\n",
    "**New Data Missing Values:**\n",
    "* 'SKU' had 1,989 missing values, indicating incomplete tracking of stock keeping units.\n",
    "* Singular missing values in 'Date', 'Time', 'Item', and 'Unit'.\n",
    "\n",
    "Given the missing values in the 'SKU' column, which includes important information such as the names of books sold, it was decided not to use this column for the current stage of analysis, although it was not deleted in case it could be useful for future analysis. \n",
    "Additionally, a row nmber 4447 had multiple missing values, hence it was removed to maintain data integrity.\n"
   ]
  },
  {
   "cell_type": "code",
   "execution_count": 9,
   "metadata": {
    "colab": {
     "base_uri": "https://localhost:8080/"
    },
    "id": "_aH5xSTKa51a",
    "outputId": "96366453-11a7-46bd-e3a7-c50ce374f7ce"
   },
   "outputs": [
    {
     "name": "stdout",
     "output_type": "stream",
     "text": [
      "Old Data Missing Values:\n"
     ]
    },
    {
     "data": {
      "text/plain": [
       "Date                     0\n",
       "Time                     0\n",
       "Gross Sales              0\n",
       "Discounts                0\n",
       "Service Charges          0\n",
       "Net Sales                0\n",
       "Gift Card Sales          0\n",
       "Tax                      0\n",
       "Total Collected          0\n",
       "Card                     0\n",
       "Cash                     0\n",
       "Other Tender Type      799\n",
       "Other Tender Note      799\n",
       "Fees                     0\n",
       "Net Total                0\n",
       "Card Brand             342\n",
       "Description              0\n",
       "Initial Fees             0\n",
       "Adjustment Fees          0\n",
       "Fee Plan               342\n",
       "Fee Percentage Rate    342\n",
       "Fee Fixed Rate         342\n",
       "dtype: int64"
      ]
     },
     "execution_count": 9,
     "metadata": {},
     "output_type": "execute_result"
    }
   ],
   "source": [
    "# Old Data\n",
    "print(\"Old Data Missing Values:\")\n",
    "old_data.isnull().sum()"
   ]
  },
  {
   "cell_type": "markdown",
   "metadata": {
    "id": "QhKVLpqLg4K5"
   },
   "source": [
    "* Upon checking for missing values, there were not any missing values in the concerned column in old data, which is Card Brand"
   ]
  },
  {
   "cell_type": "code",
   "execution_count": 10,
   "metadata": {
    "colab": {
     "base_uri": "https://localhost:8080/"
    },
    "id": "r1PInT9YWVQN",
    "outputId": "0999f40c-75e2-4b81-c75c-c046a0373bac"
   },
   "outputs": [
    {
     "name": "stdout",
     "output_type": "stream",
     "text": [
      "\n",
      "New Data Missing Values:\n",
      "Date              1\n",
      "Time              1\n",
      "Item              1\n",
      "Qty               0\n",
      "SKU            1989\n",
      "Gross Sales       0\n",
      "Discounts         0\n",
      "Net Sales         0\n",
      "Tax               0\n",
      "Unit              1\n",
      "dtype: int64\n"
     ]
    }
   ],
   "source": [
    "# New Data\n",
    "print(\"\\nNew Data Missing Values:\")\n",
    "print(new_data.isnull().sum())"
   ]
  },
  {
   "cell_type": "markdown",
   "metadata": {
    "id": "TZz98Xf6brKg"
   },
   "source": [
    "**Unique Values Exploration, Card Brand Column from Old Data**\n",
    "\n",
    "Unique values were also explored, particularly in the 'Card Brand' column from the Old Data, which revealed that payments were made using Discover, American Express, MasterCard, and Visa. NaN values in this column were confirmed by the bookstore owner to indicate cash payments."
   ]
  },
  {
   "cell_type": "code",
   "execution_count": 11,
   "metadata": {
    "colab": {
     "base_uri": "https://localhost:8080/"
    },
    "id": "iLCDw4TJbDG8",
    "outputId": "bfc64986-da0c-4d5b-9330-9d2c1479c65a"
   },
   "outputs": [
    {
     "name": "stdout",
     "output_type": "stream",
     "text": [
      "Unique Values in a Column of Old Data:\n"
     ]
    },
    {
     "data": {
      "text/plain": [
       "array(['Discover', nan, 'American Express', 'MasterCard', 'Visa',\n",
       "       'Visa, Visa'], dtype=object)"
      ]
     },
     "execution_count": 11,
     "metadata": {},
     "output_type": "execute_result"
    }
   ],
   "source": [
    "# For a specific column in Old Data\n",
    "print(\"Unique Values in a Column of Old Data:\")\n",
    "old_data['Card Brand'].unique()"
   ]
  },
  {
   "cell_type": "code",
   "execution_count": 12,
   "metadata": {
    "colab": {
     "base_uri": "https://localhost:8080/"
    },
    "id": "fqoMV0T8DmH8",
    "outputId": "09e8a270-7f13-4f26-8154-1538449fdb79"
   },
   "outputs": [
    {
     "name": "stdout",
     "output_type": "stream",
     "text": [
      "Normalized Unique Values in 'Card Brand' Column:\n",
      "['Discover' nan 'American Express' 'MasterCard' 'Visa']\n"
     ]
    }
   ],
   "source": [
    "# Normalize the 'Card Brand' column\n",
    "old_data['Card Brand'] = old_data['Card Brand'].str.strip()  # Remove leading/trailing spaces\n",
    "old_data['Card Brand'] = old_data['Card Brand'].replace(['Visa, Visa'], 'Visa')  # Replace inconsistent entries\n",
    "\n",
    "# Check unique values again\n",
    "print(\"Normalized Unique Values in 'Card Brand' Column:\")\n",
    "print(old_data['Card Brand'].unique())"
   ]
  },
  {
   "cell_type": "markdown",
   "metadata": {
    "id": "XTKVDZS9KFEa"
   },
   "source": [
    "**Card brands used to make payments were,**\n",
    "* Discover\n",
    "* Amex\n",
    "* MasterCard\n",
    "* Visa\n",
    "* NaN means payment was made using Cash (Confirmed from owner)"
   ]
  },
  {
   "cell_type": "code",
   "execution_count": 13,
   "metadata": {
    "id": "UnJdcZGAeOy-",
    "tags": []
   },
   "outputs": [],
   "source": [
    "# Flag cash payments\n",
    "# If 'Card Brand' is missing, it's a cash payment\n",
    "old_data['Payment Method'] = old_data['Card Brand'].apply(lambda x: 'Cash' if pd.isna(x) else 'Card')\n",
    "\n",
    "# Alternatively, if you want to keep 'Card Brand' as is and create a separate flag for cash\n",
    "old_data['Is Cash Payment'] = old_data['Card Brand'].isna()\n",
    "\n",
    "# Handling missing values in 'Card Brand'\n",
    "old_data['Card Brand'] = old_data['Card Brand'].fillna('Cash')"
   ]
  },
  {
   "cell_type": "markdown",
   "metadata": {},
   "source": [
    "**Checking for Duplicate Values**\n",
    "\n",
    "In assessing data quality, I checked for duplicate values and found none, which suggests that transactions were sufficiently unique, even when similar transactions occurred close in time. This is important as it reflects genuine customer behavior and sales patterns."
   ]
  },
  {
   "cell_type": "code",
   "execution_count": 14,
   "metadata": {
    "colab": {
     "base_uri": "https://localhost:8080/"
    },
    "id": "Be3G2T0kC4WU",
    "outputId": "6e7c5892-d951-459f-da3e-0e2ae8ad05cb"
   },
   "outputs": [
    {
     "name": "stdout",
     "output_type": "stream",
     "text": [
      "Old Data Duplicates:\n"
     ]
    },
    {
     "data": {
      "text/plain": [
       "0"
      ]
     },
     "execution_count": 14,
     "metadata": {},
     "output_type": "execute_result"
    }
   ],
   "source": [
    "# Old Data\n",
    "print(\"Old Data Duplicates:\")\n",
    "old_data.duplicated().sum()"
   ]
  },
  {
   "cell_type": "code",
   "execution_count": 15,
   "metadata": {
    "colab": {
     "base_uri": "https://localhost:8080/"
    },
    "id": "BG5lObvXWfhy",
    "outputId": "cf47fe29-db6b-4c5a-a680-1e4da32bf376"
   },
   "outputs": [
    {
     "name": "stdout",
     "output_type": "stream",
     "text": [
      "\n",
      "New Data Duplicates:\n"
     ]
    },
    {
     "data": {
      "text/plain": [
       "363"
      ]
     },
     "execution_count": 15,
     "metadata": {},
     "output_type": "execute_result"
    }
   ],
   "source": [
    "# New Data\n",
    "print(\"\\nNew Data Duplicates:\")\n",
    "new_data.duplicated().sum()"
   ]
  },
  {
   "cell_type": "markdown",
   "metadata": {
    "id": "klx5i7api658"
   },
   "source": [
    "* Transactions are likely to be repeated within short intervals (e.g., multiple customers buying the same priced item within the same minute).\n",
    "* The analysis focuses on broader trends over time rather than individual transaction uniqueness.\n",
    "* Removing duplicates could potentially distort the actual sales performance or customer behavior patterns you're trying to analyze."
   ]
  },
  {
   "cell_type": "markdown",
   "metadata": {
    "id": "KyLfq15KlJZ3"
   },
   "source": [
    "Strong Positive Relationship:\n",
    "Between Sales and Taxes: As sales figures (both gross and net) increase, the amount of tax collected also increases.\n",
    "Sales and Quantity: Higher quantities sold lead to higher sales amounts.\n",
    "Negative Impact of Discounts:\n",
    "Reduction in Sales: An increase in discounts leads to a decrease in net sales, indicating that heavier discounts may reduce overall revenue."
   ]
  },
  {
   "cell_type": "markdown",
   "metadata": {
    "id": "il6UQQL7nP-C"
   },
   "source": [
    "# **Data Cleaning**"
   ]
  },
  {
   "cell_type": "markdown",
   "metadata": {
    "id": "VbC7ph4ZRUFa"
   },
   "source": [
    "* Furthermore, the 'Gross Sales' column was dropped since its values were identical to those in the 'Net Sales' column\n",
    "* Dropped the 'Unit' column was removed as it only contained the value \"EA\" (each). "
   ]
  },
  {
   "cell_type": "code",
   "execution_count": 16,
   "metadata": {
    "id": "1fjajIoqFdk3"
   },
   "outputs": [],
   "source": [
    "# Drop the 'Gross Sales' column\n",
    "new_data.drop('Gross Sales', axis=1, inplace=True)"
   ]
  },
  {
   "cell_type": "code",
   "execution_count": 17,
   "metadata": {
    "id": "sKpAJ7SDaggj"
   },
   "outputs": [],
   "source": [
    "# Drop the 'Unit' column\n",
    "new_data.drop('Unit', axis=1, inplace=True)"
   ]
  },
  {
   "cell_type": "markdown",
   "metadata": {
    "id": "EbXpRkSmRbg8"
   },
   "source": [
    "**Converting Date & Time Column to Datetime Data Type** \n",
    "\n",
    "The 'Time' and 'Date' columns were converted to datetime format for more accurate temporal analysis. "
   ]
  },
  {
   "cell_type": "code",
   "execution_count": 18,
   "metadata": {
    "id": "wg7SlQ2MNK5v"
   },
   "outputs": [],
   "source": [
    "new_data['Date'] = pd.to_datetime(new_data['Date'])"
   ]
  },
  {
   "cell_type": "code",
   "execution_count": 19,
   "metadata": {
    "id": "kC8LVJLdNO-s"
   },
   "outputs": [],
   "source": [
    "# Convert 'Time' column to datetime.time\n",
    "new_data['Time'] = pd.to_datetime(new_data['Time'], format='%H:%M:%S')"
   ]
  },
  {
   "cell_type": "code",
   "execution_count": 20,
   "metadata": {
    "colab": {
     "base_uri": "https://localhost:8080/",
     "height": 238
    },
    "id": "0EdldznaOKtk",
    "outputId": "3b27c19b-8b78-4a3c-99a7-391a2e7fe616"
   },
   "outputs": [
    {
     "name": "stdout",
     "output_type": "stream",
     "text": [
      "\n",
      "New Data - First Few Rows:\n"
     ]
    },
    {
     "data": {
      "text/html": [
       "<div>\n",
       "<style scoped>\n",
       "    .dataframe tbody tr th:only-of-type {\n",
       "        vertical-align: middle;\n",
       "    }\n",
       "\n",
       "    .dataframe tbody tr th {\n",
       "        vertical-align: top;\n",
       "    }\n",
       "\n",
       "    .dataframe thead th {\n",
       "        text-align: right;\n",
       "    }\n",
       "</style>\n",
       "<table border=\"1\" class=\"dataframe\">\n",
       "  <thead>\n",
       "    <tr style=\"text-align: right;\">\n",
       "      <th></th>\n",
       "      <th>Date</th>\n",
       "      <th>Time</th>\n",
       "      <th>Item</th>\n",
       "      <th>Qty</th>\n",
       "      <th>SKU</th>\n",
       "      <th>Discounts</th>\n",
       "      <th>Net Sales</th>\n",
       "      <th>Tax</th>\n",
       "    </tr>\n",
       "  </thead>\n",
       "  <tbody>\n",
       "    <tr>\n",
       "      <th>0</th>\n",
       "      <td>2023-11-16</td>\n",
       "      <td>1900-01-01 14:44:31</td>\n",
       "      <td>Custom Amount</td>\n",
       "      <td>1</td>\n",
       "      <td>NaN</td>\n",
       "      <td>0.0</td>\n",
       "      <td>3.0</td>\n",
       "      <td>0.24</td>\n",
       "    </tr>\n",
       "    <tr>\n",
       "      <th>1</th>\n",
       "      <td>2023-11-16</td>\n",
       "      <td>1900-01-01 14:44:31</td>\n",
       "      <td>Custom Amount</td>\n",
       "      <td>1</td>\n",
       "      <td>NaN</td>\n",
       "      <td>0.0</td>\n",
       "      <td>3.0</td>\n",
       "      <td>0.24</td>\n",
       "    </tr>\n",
       "    <tr>\n",
       "      <th>2</th>\n",
       "      <td>2023-11-16</td>\n",
       "      <td>1900-01-01 14:44:31</td>\n",
       "      <td>364131</td>\n",
       "      <td>1</td>\n",
       "      <td>Turkeys, Pilgrims, and Indian Corn:</td>\n",
       "      <td>0.0</td>\n",
       "      <td>4.0</td>\n",
       "      <td>0.32</td>\n",
       "    </tr>\n",
       "    <tr>\n",
       "      <th>3</th>\n",
       "      <td>2023-11-16</td>\n",
       "      <td>1900-01-01 14:44:31</td>\n",
       "      <td>458418</td>\n",
       "      <td>1</td>\n",
       "      <td>Child Life in Colonial Days</td>\n",
       "      <td>0.0</td>\n",
       "      <td>20.0</td>\n",
       "      <td>1.60</td>\n",
       "    </tr>\n",
       "    <tr>\n",
       "      <th>4</th>\n",
       "      <td>2023-11-16</td>\n",
       "      <td>1900-01-01 14:44:31</td>\n",
       "      <td>Custom Amount</td>\n",
       "      <td>3</td>\n",
       "      <td>NaN</td>\n",
       "      <td>0.0</td>\n",
       "      <td>9.0</td>\n",
       "      <td>0.72</td>\n",
       "    </tr>\n",
       "  </tbody>\n",
       "</table>\n",
       "</div>"
      ],
      "text/plain": [
       "        Date                Time           Item  Qty  \\\n",
       "0 2023-11-16 1900-01-01 14:44:31  Custom Amount    1   \n",
       "1 2023-11-16 1900-01-01 14:44:31  Custom Amount    1   \n",
       "2 2023-11-16 1900-01-01 14:44:31         364131    1   \n",
       "3 2023-11-16 1900-01-01 14:44:31         458418    1   \n",
       "4 2023-11-16 1900-01-01 14:44:31  Custom Amount    3   \n",
       "\n",
       "                                   SKU  Discounts  Net Sales   Tax  \n",
       "0                                  NaN        0.0        3.0  0.24  \n",
       "1                                  NaN        0.0        3.0  0.24  \n",
       "2  Turkeys, Pilgrims, and Indian Corn:        0.0        4.0  0.32  \n",
       "3          Child Life in Colonial Days        0.0       20.0  1.60  \n",
       "4                                  NaN        0.0        9.0  0.72  "
      ]
     },
     "execution_count": 20,
     "metadata": {},
     "output_type": "execute_result"
    }
   ],
   "source": [
    "# New Data\n",
    "print(\"\\nNew Data - First Few Rows:\")\n",
    "new_data.head()"
   ]
  },
  {
   "cell_type": "markdown",
   "metadata": {},
   "source": [
    "**Dropping Column number 4447**\n",
    "\n",
    "One particular row in the New Data was dropped due to it lacking any values."
   ]
  },
  {
   "cell_type": "code",
   "execution_count": 21,
   "metadata": {
    "id": "SrWmgEdFPCBD"
   },
   "outputs": [],
   "source": [
    "new_data = new_data.drop(index=4447)"
   ]
  },
  {
   "cell_type": "code",
   "execution_count": 22,
   "metadata": {
    "id": "Y_Y5bO-tS93D"
   },
   "outputs": [],
   "source": [
    "#Drop the 'Discounts' column\n",
    "new_data.drop('Discounts', axis=1, inplace=True)"
   ]
  },
  {
   "cell_type": "markdown",
   "metadata": {
    "id": "urwXPeQMc0VK"
   },
   "source": [
    "Dropping Row number 4447 cause it had no values"
   ]
  },
  {
   "cell_type": "markdown",
   "metadata": {
    "id": "sdMeR9L8aPBz"
   },
   "source": [
    "**Adding a new column**\n",
    "\n",
    "A new column, 'Total Collected', was computed by adding 'Net Sales' and 'Tax' together."
   ]
  },
  {
   "cell_type": "code",
   "execution_count": 23,
   "metadata": {
    "id": "1E3cmybcaSvR"
   },
   "outputs": [],
   "source": [
    "new_data['Total Collected'] = new_data['Net Sales'] + new_data['Tax']"
   ]
  },
  {
   "cell_type": "code",
   "execution_count": null,
   "metadata": {
    "id": "xndO80j5dXxp"
   },
   "outputs": [],
   "source": [
    "#old_data['Date'] = pd.to_datetime(old_data['Date'])\n",
    "#old_data['Time'] = pd.to_datetime(old_data['Time'], format= '%H:%M:%S'.dt.time) # Adjust format as per your data"
   ]
  },
  {
   "cell_type": "markdown",
   "metadata": {
    "id": "hPqDkYMHdvq5"
   },
   "source": [
    "**More Modifications regarding time**\n",
    "\n",
    "* Upon converting the 'Time' column from string to datetime, a default date of 1900-01-01 was added, which was unnecessary and subsequently removed. \n",
    "* A new column named 'Day' was added corresponding to the dates to facilitate analysis based on the day of the week."
   ]
  },
  {
   "cell_type": "code",
   "execution_count": 24,
   "metadata": {
    "id": "tz6IPoILD1gj"
   },
   "outputs": [],
   "source": [
    "# Convert 'Time' to just the time part if it has an unnecessary date part\n",
    "new_data['Time'] = pd.to_datetime(new_data['Time']).dt.time\n",
    "\n",
    "# Add a new column 'Day' for the day of the week next to the 'Date' column\n",
    "new_data.insert(loc=new_data.columns.get_loc('Date') + 1, column='Day', value=new_data['Date'].dt.day_name())"
   ]
  },
  {
   "cell_type": "code",
   "execution_count": 25,
   "metadata": {
    "colab": {
     "base_uri": "https://localhost:8080/",
     "height": 204
    },
    "id": "qCFnqFI_np_v",
    "outputId": "9c3f1206-5de4-4ffe-8bc8-5400ddb41971"
   },
   "outputs": [
    {
     "data": {
      "text/html": [
       "<div>\n",
       "<style scoped>\n",
       "    .dataframe tbody tr th:only-of-type {\n",
       "        vertical-align: middle;\n",
       "    }\n",
       "\n",
       "    .dataframe tbody tr th {\n",
       "        vertical-align: top;\n",
       "    }\n",
       "\n",
       "    .dataframe thead th {\n",
       "        text-align: right;\n",
       "    }\n",
       "</style>\n",
       "<table border=\"1\" class=\"dataframe\">\n",
       "  <thead>\n",
       "    <tr style=\"text-align: right;\">\n",
       "      <th></th>\n",
       "      <th>Date</th>\n",
       "      <th>Day</th>\n",
       "      <th>Time</th>\n",
       "      <th>Item</th>\n",
       "      <th>Qty</th>\n",
       "      <th>SKU</th>\n",
       "      <th>Net Sales</th>\n",
       "      <th>Tax</th>\n",
       "      <th>Total Collected</th>\n",
       "    </tr>\n",
       "  </thead>\n",
       "  <tbody>\n",
       "    <tr>\n",
       "      <th>0</th>\n",
       "      <td>2023-11-16</td>\n",
       "      <td>Thursday</td>\n",
       "      <td>14:44:31</td>\n",
       "      <td>Custom Amount</td>\n",
       "      <td>1</td>\n",
       "      <td>NaN</td>\n",
       "      <td>3.0</td>\n",
       "      <td>0.24</td>\n",
       "      <td>3.24</td>\n",
       "    </tr>\n",
       "    <tr>\n",
       "      <th>1</th>\n",
       "      <td>2023-11-16</td>\n",
       "      <td>Thursday</td>\n",
       "      <td>14:44:31</td>\n",
       "      <td>Custom Amount</td>\n",
       "      <td>1</td>\n",
       "      <td>NaN</td>\n",
       "      <td>3.0</td>\n",
       "      <td>0.24</td>\n",
       "      <td>3.24</td>\n",
       "    </tr>\n",
       "    <tr>\n",
       "      <th>2</th>\n",
       "      <td>2023-11-16</td>\n",
       "      <td>Thursday</td>\n",
       "      <td>14:44:31</td>\n",
       "      <td>364131</td>\n",
       "      <td>1</td>\n",
       "      <td>Turkeys, Pilgrims, and Indian Corn:</td>\n",
       "      <td>4.0</td>\n",
       "      <td>0.32</td>\n",
       "      <td>4.32</td>\n",
       "    </tr>\n",
       "    <tr>\n",
       "      <th>3</th>\n",
       "      <td>2023-11-16</td>\n",
       "      <td>Thursday</td>\n",
       "      <td>14:44:31</td>\n",
       "      <td>458418</td>\n",
       "      <td>1</td>\n",
       "      <td>Child Life in Colonial Days</td>\n",
       "      <td>20.0</td>\n",
       "      <td>1.60</td>\n",
       "      <td>21.60</td>\n",
       "    </tr>\n",
       "    <tr>\n",
       "      <th>4</th>\n",
       "      <td>2023-11-16</td>\n",
       "      <td>Thursday</td>\n",
       "      <td>14:44:31</td>\n",
       "      <td>Custom Amount</td>\n",
       "      <td>3</td>\n",
       "      <td>NaN</td>\n",
       "      <td>9.0</td>\n",
       "      <td>0.72</td>\n",
       "      <td>9.72</td>\n",
       "    </tr>\n",
       "  </tbody>\n",
       "</table>\n",
       "</div>"
      ],
      "text/plain": [
       "        Date       Day      Time           Item  Qty  \\\n",
       "0 2023-11-16  Thursday  14:44:31  Custom Amount    1   \n",
       "1 2023-11-16  Thursday  14:44:31  Custom Amount    1   \n",
       "2 2023-11-16  Thursday  14:44:31         364131    1   \n",
       "3 2023-11-16  Thursday  14:44:31         458418    1   \n",
       "4 2023-11-16  Thursday  14:44:31  Custom Amount    3   \n",
       "\n",
       "                                   SKU  Net Sales   Tax  Total Collected  \n",
       "0                                  NaN        3.0  0.24             3.24  \n",
       "1                                  NaN        3.0  0.24             3.24  \n",
       "2  Turkeys, Pilgrims, and Indian Corn:        4.0  0.32             4.32  \n",
       "3          Child Life in Colonial Days       20.0  1.60            21.60  \n",
       "4                                  NaN        9.0  0.72             9.72  "
      ]
     },
     "execution_count": 25,
     "metadata": {},
     "output_type": "execute_result"
    }
   ],
   "source": [
    "# Display the first few rows to verify\n",
    "new_data.head(5)"
   ]
  },
  {
   "cell_type": "code",
   "execution_count": 27,
   "metadata": {
    "id": "GtEkLIXKGL7W"
   },
   "outputs": [],
   "source": [
    "import pandas as pd\n",
    "\n",
    "# Combine 'Date' and 'Time' into a single datetime column\n",
    "new_data['Datetime'] = pd.to_datetime(new_data['Date'].astype(str) + ' ' + new_data['Time'].astype(str))"
   ]
  },
  {
   "cell_type": "code",
   "execution_count": 28,
   "metadata": {
    "colab": {
     "base_uri": "https://localhost:8080/",
     "height": 331
    },
    "id": "8-YySTzCWRiK",
    "outputId": "f445c9e4-6778-49e9-87bc-6b3b319a3341"
   },
   "outputs": [
    {
     "name": "stdout",
     "output_type": "stream",
     "text": [
      "\n",
      "New Data Statistical Summary:\n"
     ]
    },
    {
     "data": {
      "text/html": [
       "<div>\n",
       "<style scoped>\n",
       "    .dataframe tbody tr th:only-of-type {\n",
       "        vertical-align: middle;\n",
       "    }\n",
       "\n",
       "    .dataframe tbody tr th {\n",
       "        vertical-align: top;\n",
       "    }\n",
       "\n",
       "    .dataframe thead th {\n",
       "        text-align: right;\n",
       "    }\n",
       "</style>\n",
       "<table border=\"1\" class=\"dataframe\">\n",
       "  <thead>\n",
       "    <tr style=\"text-align: right;\">\n",
       "      <th></th>\n",
       "      <th>Date</th>\n",
       "      <th>Qty</th>\n",
       "      <th>Net Sales</th>\n",
       "      <th>Tax</th>\n",
       "      <th>Total Collected</th>\n",
       "      <th>Datetime</th>\n",
       "    </tr>\n",
       "  </thead>\n",
       "  <tbody>\n",
       "    <tr>\n",
       "      <th>count</th>\n",
       "      <td>4447</td>\n",
       "      <td>4447.000000</td>\n",
       "      <td>4447.000000</td>\n",
       "      <td>4447.000000</td>\n",
       "      <td>4447.000000</td>\n",
       "      <td>4447</td>\n",
       "    </tr>\n",
       "    <tr>\n",
       "      <th>mean</th>\n",
       "      <td>2023-09-29 22:28:41.070384384</td>\n",
       "      <td>1.010794</td>\n",
       "      <td>7.106724</td>\n",
       "      <td>0.521687</td>\n",
       "      <td>7.628410</td>\n",
       "      <td>2023-09-30 12:34:35.815156224</td>\n",
       "    </tr>\n",
       "    <tr>\n",
       "      <th>min</th>\n",
       "      <td>2023-08-15 00:00:00</td>\n",
       "      <td>-2.000000</td>\n",
       "      <td>-10.000000</td>\n",
       "      <td>-0.400000</td>\n",
       "      <td>-10.000000</td>\n",
       "      <td>2023-08-15 09:39:40</td>\n",
       "    </tr>\n",
       "    <tr>\n",
       "      <th>25%</th>\n",
       "      <td>2023-09-08 00:00:00</td>\n",
       "      <td>1.000000</td>\n",
       "      <td>4.000000</td>\n",
       "      <td>0.320000</td>\n",
       "      <td>4.320000</td>\n",
       "      <td>2023-09-08 09:43:02.500000</td>\n",
       "    </tr>\n",
       "    <tr>\n",
       "      <th>50%</th>\n",
       "      <td>2023-09-29 00:00:00</td>\n",
       "      <td>1.000000</td>\n",
       "      <td>5.000000</td>\n",
       "      <td>0.400000</td>\n",
       "      <td>5.400000</td>\n",
       "      <td>2023-09-29 15:49:36</td>\n",
       "    </tr>\n",
       "    <tr>\n",
       "      <th>75%</th>\n",
       "      <td>2023-10-23 00:00:00</td>\n",
       "      <td>1.000000</td>\n",
       "      <td>7.500000</td>\n",
       "      <td>0.560000</td>\n",
       "      <td>8.100000</td>\n",
       "      <td>2023-10-23 13:58:37</td>\n",
       "    </tr>\n",
       "    <tr>\n",
       "      <th>max</th>\n",
       "      <td>2023-11-16 00:00:00</td>\n",
       "      <td>8.000000</td>\n",
       "      <td>225.000000</td>\n",
       "      <td>18.000000</td>\n",
       "      <td>243.000000</td>\n",
       "      <td>2023-11-16 14:44:31</td>\n",
       "    </tr>\n",
       "    <tr>\n",
       "      <th>std</th>\n",
       "      <td>NaN</td>\n",
       "      <td>0.202037</td>\n",
       "      <td>8.790021</td>\n",
       "      <td>0.618001</td>\n",
       "      <td>9.304999</td>\n",
       "      <td>NaN</td>\n",
       "    </tr>\n",
       "  </tbody>\n",
       "</table>\n",
       "</div>"
      ],
      "text/plain": [
       "                                Date          Qty    Net Sales          Tax  \\\n",
       "count                           4447  4447.000000  4447.000000  4447.000000   \n",
       "mean   2023-09-29 22:28:41.070384384     1.010794     7.106724     0.521687   \n",
       "min              2023-08-15 00:00:00    -2.000000   -10.000000    -0.400000   \n",
       "25%              2023-09-08 00:00:00     1.000000     4.000000     0.320000   \n",
       "50%              2023-09-29 00:00:00     1.000000     5.000000     0.400000   \n",
       "75%              2023-10-23 00:00:00     1.000000     7.500000     0.560000   \n",
       "max              2023-11-16 00:00:00     8.000000   225.000000    18.000000   \n",
       "std                              NaN     0.202037     8.790021     0.618001   \n",
       "\n",
       "       Total Collected                       Datetime  \n",
       "count      4447.000000                           4447  \n",
       "mean          7.628410  2023-09-30 12:34:35.815156224  \n",
       "min         -10.000000            2023-08-15 09:39:40  \n",
       "25%           4.320000     2023-09-08 09:43:02.500000  \n",
       "50%           5.400000            2023-09-29 15:49:36  \n",
       "75%           8.100000            2023-10-23 13:58:37  \n",
       "max         243.000000            2023-11-16 14:44:31  \n",
       "std           9.304999                            NaN  "
      ]
     },
     "execution_count": 28,
     "metadata": {},
     "output_type": "execute_result"
    }
   ],
   "source": [
    "# New Data\n",
    "print(\"\\nNew Data Statistical Summary:\")\n",
    "new_data.describe()"
   ]
  },
  {
   "cell_type": "code",
   "execution_count": 29,
   "metadata": {
    "colab": {
     "base_uri": "https://localhost:8080/"
    },
    "id": "HLV9vHJVrWuc",
    "outputId": "163e1af3-e7c2-4401-82cc-5e5f56046dac"
   },
   "outputs": [
    {
     "name": "stdout",
     "output_type": "stream",
     "text": [
      "                                Date          Qty    Net Sales          Tax  \\\n",
      "count                           4441  4441.000000  4441.000000  4441.000000   \n",
      "mean   2023-09-29 23:09:05.552803328     1.013736     7.122349     0.522639   \n",
      "min              2023-08-15 00:00:00     1.000000     0.000000     0.000000   \n",
      "25%              2023-09-08 00:00:00     1.000000     4.000000     0.320000   \n",
      "50%              2023-09-29 00:00:00     1.000000     5.000000     0.400000   \n",
      "75%              2023-10-23 00:00:00     1.000000     7.500000     0.560000   \n",
      "max              2023-11-16 00:00:00     8.000000   225.000000    18.000000   \n",
      "std                              NaN     0.185124     8.785058     0.617844   \n",
      "\n",
      "       Total Collected                       Datetime  \n",
      "count      4441.000000                           4441  \n",
      "mean          7.644988  2023-09-30 13:14:54.692186368  \n",
      "min           0.000000            2023-08-15 09:39:40  \n",
      "25%           4.320000            2023-09-08 10:22:45  \n",
      "50%           5.400000            2023-09-29 15:55:26  \n",
      "75%           8.100000            2023-10-23 13:58:37  \n",
      "max         243.000000            2023-11-16 14:44:31  \n",
      "std           9.299770                            NaN  \n"
     ]
    }
   ],
   "source": [
    "# Columns to check for negative values\n",
    "columns_to_check = ['Qty', 'Net Sales', 'Tax', 'Total Collected']\n",
    "\n",
    "# Remove rows where any of the specified columns have negative values\n",
    "for column in columns_to_check:\n",
    "    new_data = new_data[new_data[column] >= 0]\n",
    "\n",
    "# Verify the removal\n",
    "print(new_data.describe())"
   ]
  },
  {
   "cell_type": "markdown",
   "metadata": {},
   "source": [
    "# **Visualisations**"
   ]
  },
  {
   "cell_type": "markdown",
   "metadata": {},
   "source": [
    "# Preferred mode of payment\n",
    "\n",
    "* I delved into the payment methods data. By visualizing the modes of payment used for transactions, I observed varying usage across different payment methods.\n",
    "\n",
    "* Two visual representations were created: a bar chart and a pie chart. The bar chart displays the number of transactions for each payment method, while the pie chart provides a percentage distribution of the transactions.\n"
   ]
  },
  {
   "cell_type": "code",
   "execution_count": 30,
   "metadata": {
    "colab": {
     "base_uri": "https://localhost:8080/",
     "height": 648
    },
    "id": "FSsT2vuMEFCX",
    "outputId": "2a1ebd7a-ac0a-42fe-edb5-55d0344477fe"
   },
   "outputs": [
    {
     "data": {
      "image/png": "[encoded data removed]",
      "text/plain": [
       "<Figure size 1200x600 with 1 Axes>"
      ]
     },
     "metadata": {},
     "output_type": "display_data"
    }
   ],
   "source": [
    "import matplotlib.pyplot as plt\n",
    "import seaborn as sns\n",
    "\n",
    "# Assuming 'old_data' is your DataFrame and it has a 'Card Brand' column\n",
    "\n",
    "# Replace missing values with 'Unknown' or another placeholder if you haven't already\n",
    "old_data['Card Brand'] = old_data['Card Brand'].fillna('Unknown')\n",
    "\n",
    "# Count the occurrences of each card brand\n",
    "card_brand_counts = old_data['Card Brand'].value_counts()\n",
    "\n",
    "# Plotting\n",
    "plt.figure(figsize=(12, 6))\n",
    "barplot = sns.barplot(x=card_brand_counts.index, y=card_brand_counts.values, palette=\"viridis\")\n",
    "plt.title('Distribution of mode of payment used for Transactions')\n",
    "plt.xlabel('Mode of Payment')\n",
    "plt.ylabel('Number of Transactions')\n",
    "plt.xticks(rotation=45)\n",
    "\n",
    "# Adding annotations\n",
    "for p in barplot.patches:\n",
    "    barplot.annotate(f'{int(p.get_height())}',\n",
    "                     (p.get_x() + p.get_width() / 2., p.get_height()),\n",
    "                     ha = 'center',\n",
    "                     va = 'center',\n",
    "                     xytext = (0, 9),\n",
    "                     textcoords = 'offset points')\n",
    "\n",
    "plt.show()"
   ]
  },
  {
   "cell_type": "markdown",
   "metadata": {},
   "source": [
    "**Bar Chart Observations:**\n",
    "* Cash is the most utilized payment method, with 342 transactions.\n",
    "* Visa follows with 252 transactions.\n",
    "* MasterCard and Discover have a moderate usage with 167 and 22 transactions respectively.\n",
    "* American Express is the least used, with only 18 transactions recorded."
   ]
  },
  {
   "cell_type": "code",
   "execution_count": 31,
   "metadata": {
    "colab": {
     "base_uri": "https://localhost:8080/",
     "height": 521
    },
    "id": "sdeo6vFgTjhe",
    "outputId": "7e1e1ae2-8f7b-43a8-ead4-02e3a4ddb2a7",
    "tags": []
   },
   "outputs": [
    {
     "data": {
      "image/png": "[encoded data removed]",
      "text/plain": [
       "<Figure size 1000x600 with 1 Axes>"
      ]
     },
     "metadata": {},
     "output_type": "display_data"
    }
   ],
   "source": [
    "# Aggregate data by 'Card Brand'\n",
    "payment_distribution = old_data['Card Brand'].value_counts()\n",
    "\n",
    "# Plotting pie chart\n",
    "plt.figure(figsize=(10, 6))\n",
    "plt.pie(payment_distribution, labels=payment_distribution.index, autopct='%1.1f%%', startangle=140)\n",
    "plt.title('Distribution of Different Modes of Payment')\n",
    "plt.show()"
   ]
  },
  {
   "cell_type": "markdown",
   "metadata": {},
   "source": [
    "**Pie Chart Observations:**\n",
    "\n",
    "* Cash payments constitute 42.7% of all transactions.\n",
    "* Visa transactions account for 31.5%.\n",
    "* MasterCard is used in 20.8% of transactions.\n",
    "* Discover and American Express have minimal use at 2.7% and 2.2% respectively.\n",
    "\n",
    "From the transaction data analysis, it’s evident that cash and Visa are the preferred payment methods, with significant leads over other types. This preference provides an opportunity to introduce targeted marketing strategies such as cash-back offers or loyalty programs, particularly for Visa users. Such initiatives could potentially enhance customer retention and boost sales by leveraging existing consumer behavior trends.\n"
   ]
  },
  {
   "cell_type": "markdown",
   "metadata": {},
   "source": [
    "# Sales per day of the week"
   ]
  },
  {
   "cell_type": "code",
   "execution_count": 32,
   "metadata": {
    "colab": {
     "base_uri": "https://localhost:8080/",
     "height": 564
    },
    "id": "3xfXA3EjFIuo",
    "outputId": "e507fd3a-cdf0-41c2-f0c8-a16244ac3d48"
   },
   "outputs": [
    {
     "data": {
      "image/png": "[encoded data removed]",
      "text/plain": [
       "<Figure size 1000x600 with 1 Axes>"
      ]
     },
     "metadata": {},
     "output_type": "display_data"
    }
   ],
   "source": [
    "import matplotlib.pyplot as plt\n",
    "import seaborn as sns\n",
    "\n",
    "# Assuming 'new_data' is your DataFrame and it has 'Day of Week' column\n",
    "\n",
    "# Count the number of sales (transactions) for each day of the week\n",
    "sales_per_day = new_data['Day'].value_counts()\n",
    "\n",
    "# Sorting the days in order\n",
    "days_order = ['Monday', 'Tuesday', 'Wednesday', 'Thursday', 'Friday', 'Saturday', 'Sunday']\n",
    "sales_per_day = sales_per_day.reindex(days_order)\n",
    "\n",
    "# Plotting the results\n",
    "plt.figure(figsize=(10, 6))\n",
    "sns.barplot(x=sales_per_day.index, y=sales_per_day.values, palette=\"mako\")\n",
    "plt.title('Number of Sales per Day of the Week')\n",
    "plt.xlabel('Day of the Week')\n",
    "plt.ylabel('Number of Sales')\n",
    "plt.show()"
   ]
  },
  {
   "cell_type": "markdown",
   "metadata": {},
   "source": [
    "In the pursuit of understanding the bookstore's business flow throughout the week, I analyzed the number of sales per day. This analysis aimed to discern patterns that could inform strategic decision-making in terms of promotions and staffing.\n",
    "\n",
    "The data was visualized in a bar chart representing the number of sales for each day of the week. \n",
    "\n",
    "**The following observations were made:**\n",
    "* Sales exhibit variability across the week, with certain days attracting more customers than others.\n",
    "* Saturday stands out as the busiest day, with sales nearly reaching the 1000 transactions mark.\n",
    "* In contrast, Monday is the quietest, with the lowest number of sales.\n",
    "\n",
    "Based on these insights, strategic initiatives can be implemented to maximize profitability and improve customer engagement:\n",
    "* Weekend Promotions: Considering the surge in traffic on Saturdays, weekend-specific promotions or events could be introduced to further increase sales. These could include limited-time offers or special discounts that encourage more transactions.\n",
    "* Monday Marketing: To counteract the lull in sales on Mondays, special deals or marketing campaigns could be launched to attract more customers. These could take the form of 'Monday Deals', early-week discounts, or loyalty program incentives that encourage repeat business.\n",
    "\n",
    "By tailoring marketing and promotional efforts to the observed sales patterns, the bookstore can better align its strategies with customer behavior, thereby increasing the potential for higher sales volume and overall store performance.\n"
   ]
  },
  {
   "cell_type": "markdown",
   "metadata": {},
   "source": [
    "# Time Series Analysis"
   ]
  },
  {
   "cell_type": "code",
   "execution_count": 33,
   "metadata": {
    "colab": {
     "base_uri": "https://localhost:8080/",
     "height": 564
    },
    "id": "G64a-88rGNKB",
    "outputId": "91681339-6546-4b62-f5cf-a12e1c93c859"
   },
   "outputs": [
    {
     "data": {
      "image/png": "[encoded data removed]",
      "text/plain": [
       "<Figure size 1500x600 with 1 Axes>"
      ]
     },
     "metadata": {},
     "output_type": "display_data"
    }
   ],
   "source": [
    "import matplotlib.pyplot as plt\n",
    "import seaborn as sns\n",
    "\n",
    "# Set the 'Datetime' column as the index\n",
    "new_data.set_index('Datetime', inplace=True)\n",
    "\n",
    "# Resample data to get daily counts (or sums if you're using a sales amount)\n",
    "# 'D' for daily. Use 'W' for weekly, 'M' for monthly, etc., as needed\n",
    "daily_sales = new_data.resample('D').size()  # Use .sum() if aggregating sales amounts\n",
    "\n",
    "# Plotting the time series\n",
    "plt.figure(figsize=(15, 6))\n",
    "sns.lineplot(data=daily_sales)\n",
    "plt.title('Time Series of Sales')\n",
    "plt.xlabel('Date')\n",
    "plt.ylabel('Number of Sales')\n",
    "plt.show()"
   ]
  },
  {
   "cell_type": "markdown",
   "metadata": {},
   "source": [
    "In the course of examining the bookstore's sales data, a time series analysis was conducted to discern daily sales patterns and trends over time. This analysis is instrumental in understanding the dynamics of sales and can significantly influence strategic planning.\n",
    "\n",
    "The time series plot, which outlines the number of sales across several months, reveals notable fluctuations in daily sales, indicating variability inherent in consumer purchasing behavior.\n",
    "\n",
    "**Key Observations from the Time Series Graph:**\n",
    "* Sales do not remain constant; they vary significantly from day to day.\n",
    "* The graph exhibits consistent patterns of peaks and troughs, suggesting regular cycles in consumer behavior.\n",
    "* A significant observation is that sales tend to spike around mid-week. These spikes suggest increased activity that could be attributed to various factors such as weekly routines, marketing efforts, or external events.\n",
    "\n",
    "**Strategic Implications:**\n",
    "* The mid-week sales spikes present an opportunity to schedule impactful marketing initiatives. By aligning marketing campaigns with these natural sales peaks, the bookstore can leverage existing customer traffic to maximize reach and conversion rates.\n",
    "* Promotions, events, or special deals could be timed to coincide with the anticipated peaks to further amplify sales numbers.\n",
    "* Understanding the sales troughs is equally important. Investigating the causes of these dips and addressing them through targeted strategies could help in smoothing out sales over time, ensuring steadier revenue streams.\n",
    "\n",
    "This time series analysis underlines the importance of adaptive business strategies that respond to observable sales patterns. By aligning promotional activities with the natural ebb and flow of consumer purchasing, the bookstore can more effectively drive sales and enhance its overall business performance.\n"
   ]
  },
  {
   "cell_type": "markdown",
   "metadata": {},
   "source": [
    "# Monthly Sales Analysis\n",
    "\n",
    "Analysis of Sales Distribution and Cumulative Sales Over Time\n",
    "To gain insights into the bookstore's performance and identify potential seasonal trends, a detailed analysis of the monthly sales data was conducted. The investigation involved both a point-in-time assessment of monthly sales distribution and a longitudinal view via cumulative sales over time."
   ]
  },
  {
   "cell_type": "code",
   "execution_count": null,
   "metadata": {
    "colab": {
     "base_uri": "https://localhost:8080/",
     "height": 614
    },
    "id": "J_EZ-HRCIqNr",
    "outputId": "4794dc90-1b95-41e4-a8d3-2f591411cddb"
   },
   "outputs": [],
   "source": [
    "import matplotlib.pyplot as plt\n",
    "import seaborn as sns\n",
    "\n",
    "# Assuming 'new_data' is your DataFrame and it has a 'Date' column\n",
    "\n",
    "# Extract the month from the 'Date' column\n",
    "new_data['Month'] = new_data['Date'].dt.month_name()\n",
    "\n",
    "# Aggregate sales by month (counting the number of sales transactions per month)\n",
    "monthly_sales = new_data.groupby('Month').size()\n",
    "\n",
    "# Sorting the months in order (optional, based on your data range and preference)\n",
    "months_order = ['August', 'September', 'October', 'November']\n",
    "monthly_sales = monthly_sales.reindex(months_order)\n",
    "\n",
    "# Plotting the results\n",
    "plt.figure(figsize=(12, 6))\n",
    "sns.barplot(x=monthly_sales.index, y=monthly_sales.values, palette=\"coolwarm\")\n",
    "plt.title('Sales Made Each Month')\n",
    "plt.xlabel('Month')\n",
    "plt.ylabel('Number of Sales')\n",
    "plt.xticks(rotation=45)\n",
    "plt.show()"
   ]
  },
  {
   "cell_type": "markdown",
   "metadata": {},
   "source": [
    "**Monthly Sales Distribution Observations:**\n",
    "* The monthly sales data, represented in a bar chart, highlighted significant variations in the number of sales across different months.\n",
    "* September stood out as the month with the highest sales volume, exceeding 1500 transactions.\n",
    "* However, there was a notable downward trend as the year progressed into November. It's important to note that data for November was only available for half the month, which may affect the interpretation of this trend.\n"
   ]
  },
  {
   "cell_type": "code",
   "execution_count": null,
   "metadata": {
    "colab": {
     "base_uri": "https://localhost:8080/",
     "height": 617
    },
    "id": "G1eD-bQfT2ts",
    "outputId": "f0bc357d-afea-4920-c80f-ab983e58f609"
   },
   "outputs": [],
   "source": [
    "# Calculate cumulative sales\n",
    "new_data['Cumulative Sales'] = new_data['Total Collected'].cumsum()\n",
    "\n",
    "# Plotting cumulative sales\n",
    "plt.figure(figsize=(12, 6))\n",
    "plt.plot(new_data['Date'], new_data['Cumulative Sales'])\n",
    "plt.title('Cumulative Sales Over Time')\n",
    "plt.xlabel('Date')\n",
    "plt.ylabel('Cumulative Sales')\n",
    "plt.xticks(rotation=45)\n",
    "plt.show()"
   ]
  },
  {
   "cell_type": "markdown",
   "metadata": {},
   "source": [
    "**Cumulative Sales Over Time Observations:**\n",
    "\n",
    "* A cumulative sales plot over the same period depicted a declining trend in total sales.\n",
    "* This trend line is critical for understanding the overall sales trajectory and for assessing the long-term sustainability of current business strategies.\n",
    "\n",
    "**Strategic Planning Implications:**\n",
    "* The peak in September, followed by a decline, suggests that certain factors or events may have driven a temporary increase in sales, which were not sustained.\n",
    "* The observed sales dip post-September necessitates strategic planning to counteract this trend. This could involve analyzing specific factors that contributed to the September peak and devising methods to replicate such success.\n",
    "* Considering the festive season and end-of-year holidays, there is an opportunity to implement targeted marketing and sales promotions. These initiatives could aim to recapture the high sales activity seen in September and to mitigate the decline in the following months.\n",
    "\n",
    "**Recommendations:**\n",
    "* Develop and deploy targeted marketing campaigns designed to harness the sales momentum of September.\n",
    "* Plan and execute holiday sales promotions to capitalize on seasonal shopping behaviors, with a focus on maximizing sales during what is traditionally a high-revenue period for retail businesses.\n"
   ]
  },
  {
   "cell_type": "markdown",
   "metadata": {},
   "source": [
    "# Holiday Sales Analysis**\n",
    "\n",
    "The influence of holidays on consumer behavior is a well-documented phenomenon, and this holds true for the bookstore in question as well. To quantify this effect, a comparative analysis was conducted between sales on holidays and average sales on other days.\n"
   ]
  },
  {
   "cell_type": "code",
   "execution_count": null,
   "metadata": {
    "colab": {
     "base_uri": "https://localhost:8080/",
     "height": 664
    },
    "id": "wmYAB-2KLYO9",
    "outputId": "ff293a4d-50c5-46ea-92cf-e827dfa8ad00"
   },
   "outputs": [],
   "source": [
    "import pandas as pd\n",
    "import matplotlib.pyplot as plt\n",
    "\n",
    "# Assuming your DataFrame is new_data and has a 'Date' and 'Total Collected' column\n",
    "\n",
    "# Define the holiday dates for 2023\n",
    "holidays = {\n",
    "    'Labor Day': '2023-09-04',\n",
    "    'Columbus Day': '2023-10-09',\n",
    "    'Veterans Day': '2023-11-10',\n",
    "    'Thanksgiving Day': '2023-11-23'\n",
    "}\n",
    "\n",
    "# Extract sales for holiday dates\n",
    "holiday_sales = {holiday: new_data.loc[new_data['Date'] == pd.to_datetime(date), 'Total Collected'].sum()\n",
    "                 for holiday, date in holidays.items()}\n",
    "\n",
    "# Calculate average sales on non-holiday days\n",
    "avg_sales_non_holiday = new_data.loc[~new_data['Date'].isin(pd.to_datetime(list(holidays.values()))), 'Total Collected'].mean()\n",
    "\n",
    "# Create a plot\n",
    "plt.figure(figsize=(10, 6))\n",
    "holiday_names = list(holiday_sales.keys()) + ['Average Non-Holiday']\n",
    "sales_values = list(holiday_sales.values()) + [avg_sales_non_holiday]\n",
    "\n",
    "plt.bar(holiday_names, sales_values, color='teal')\n",
    "plt.xlabel('Day')\n",
    "plt.ylabel('Total Sales')\n",
    "plt.title('Comparison of Sales on Holidays vs. Average Sales on Other Days')\n",
    "plt.xticks(rotation=45)\n",
    "plt.show()"
   ]
  },
  {
   "cell_type": "code",
   "execution_count": null,
   "metadata": {
    "colab": {
     "base_uri": "https://localhost:8080/",
     "height": 545
    },
    "id": "PvyMQew5NmCE",
    "outputId": "6ab8fea4-3303-46c7-ad81-a224c5aa32ed"
   },
   "outputs": [],
   "source": [
    "import pandas as pd\n",
    "import matplotlib.pyplot as plt\n",
    "import seaborn as sns\n",
    "\n",
    "# Assuming 'new_data' is your DataFrame and it has 'Date' and 'Total Collected' columns\n",
    "\n",
    "# Define Columbus Day and Veterans Day for 2023\n",
    "columbus_day = '2023-10-09'\n",
    "veterans_day = '2023-11-10'\n",
    "\n",
    "# Calculate total sales on Columbus Day and Veterans Day\n",
    "total_columbus_day = new_data.loc[new_data['Date'] == columbus_day, 'Total Collected'].sum()\n",
    "total_veterans_day = new_data.loc[new_data['Date'] == veterans_day, 'Total Collected'].sum()\n",
    "\n",
    "# Calculate average sales on all Mondays and Thursdays\n",
    "new_data['Day of Week'] = new_data['Date'].dt.day_name()\n",
    "avg_monday_sales = new_data.loc[new_data['Day of Week'] == 'Monday', 'Total Collected'].mean()\n",
    "avg_thursday_sales = new_data.loc[new_data['Day of Week'] == 'Thursday', 'Total Collected'].mean()\n",
    "\n",
    "# Data for plotting\n",
    "days = ['Columbus Day', 'Average Monday', 'Veterans Day', 'Average Thursday']\n",
    "sales = [total_columbus_day, avg_monday_sales, total_veterans_day, avg_thursday_sales]\n",
    "\n",
    "# Create double bar plot\n",
    "plt.figure(figsize=(10, 6))\n",
    "bar_plot = sns.barplot(x=days, y=sales, palette='Set2')\n",
    "plt.title('Total Sales Comparison: Holidays vs Average Weekdays')\n",
    "plt.ylabel('Total Sales')\n",
    "\n",
    "# Annotate each bar with its value\n",
    "for bar in bar_plot.patches:\n",
    "    bar_plot.annotate(format(bar.get_height(), '.2f'),\n",
    "                      (bar.get_x() + bar.get_width() / 2, bar.get_height()),\n",
    "                      ha='center', va='center',\n",
    "                      size=10, xytext=(0, 8),\n",
    "                      textcoords='offset points')\n",
    "\n",
    "plt.show()"
   ]
  },
  {
   "cell_type": "code",
   "execution_count": null,
   "metadata": {
    "colab": {
     "base_uri": "https://localhost:8080/",
     "height": 782
    },
    "id": "-OltIpK6QFle",
    "outputId": "68a27415-228f-4265-cc99-67da38b58c49"
   },
   "outputs": [],
   "source": [
    "import pandas as pd\n",
    "import matplotlib.pyplot as plt\n",
    "import seaborn as sns\n",
    "\n",
    "# Define holidays and their dates\n",
    "holidays = {\n",
    "    'Labor Day': '2023-09-04',\n",
    "    'Columbus Day': '2023-10-09',\n",
    "    'Veterans Day': '2023-11-10',\n",
    "    'Thanksgiving Day': '2023-11-23'\n",
    "}\n",
    "\n",
    "# Calculate sales on holidays\n",
    "holiday_sales = {holiday: new_data[new_data['Date'] == pd.to_datetime(date)]['Total Collected'].sum() for holiday, date in holidays.items()}\n",
    "\n",
    "# Calculate average sales for each day of the week\n",
    "new_data['Day of Week'] = new_data['Date'].dt.day_name()\n",
    "avg_weekday_sales = new_data.groupby('Day of Week')['Total Collected'].mean().reindex(['Monday', 'Tuesday', 'Wednesday', 'Thursday', 'Friday', 'Saturday', 'Sunday'])\n",
    "\n",
    "# Data for plotting\n",
    "days = list(holiday_sales.keys()) + list(avg_weekday_sales.index)\n",
    "sales = list(holiday_sales.values()) + list(avg_weekday_sales.values)\n",
    "\n",
    "# Plotting with annotations\n",
    "plt.figure(figsize=(15, 8))\n",
    "bar_plot = sns.barplot(x=days, y=sales, palette='viridis')\n",
    "plt.title('Comparison of Holiday Sales vs. Average Weekday Sales')\n",
    "plt.ylabel('Total Sales')\n",
    "plt.xticks(rotation=45)\n",
    "\n",
    "# Annotate each bar with its value\n",
    "for bar in bar_plot.patches:\n",
    "    bar_plot.annotate(format(bar.get_height(), '.2f'),\n",
    "                      (bar.get_x() + bar.get_width() / 2, bar.get_height()),\n",
    "                      ha='center', va='center',\n",
    "                      size=10, xytext=(0, 8),\n",
    "                      textcoords='offset points')\n",
    "\n",
    "plt.show()"
   ]
  },
  {
   "cell_type": "markdown",
   "metadata": {},
   "source": [
    "**Key Observations:**\n",
    "\n",
    "* Sales data plotted for holidays versus average non-holiday weekdays shows a marked difference in customer activity.\n",
    "* Columbus Day exhibited a significant surge in sales, with totals almost 40 times the average of a typical Monday's sales figures.\n",
    "* Similarly, Veterans Day sales dramatically outpaced the sales of an average Thursday.\n",
    "* There was no data available for Thanksgiving Day, and it was marked as zero in the dataset, possibly indicating the store was closed on that day.\n",
    "\n",
    "**Strategic Considerations:**\n",
    "* The stark contrast in sales on Columbus Day and Veterans Day as compared to average weekdays indicates that holidays are indeed significant drivers of traffic and sales.\n",
    "* This pattern suggests the potential for tailoring marketing strategies to these specific high-traffic occasions, utilizing them as opportunities to launch special promotions or events that could attract even more customers.\n",
    "\n",
    "**Recommendations for Future Planning:**\n",
    "* Develop holiday-specific marketing campaigns that capitalize on the increased foot traffic during these days. Tactics could include limited-time offers, themed promotions, or special loyalty rewards that resonate with the celebratory nature of the holiday.\n",
    "* Inventory planning should also be adjusted to accommodate the expected increase in sales, ensuring popular items are well-stocked to meet customer demand.\n",
    "* Consider extending store hours or enhancing staffing on these peak days to provide the best customer experience and maximize sales opportunities.\n"
   ]
  },
  {
   "cell_type": "markdown",
   "metadata": {},
   "source": [
    "# Variability in Transaction Metrics\n",
    "\n",
    "**Analysis of Transaction Sizes and Values:** An essential aspect of retail analytics is understanding the variability in transaction sizes and values to tailor the business approach to customer spending behaviors. In this analysis, we have created box plots to visualize the distribution and range of 'Quantity' and 'Total Collected' per transaction at the bookstore.\n"
   ]
  },
  {
   "cell_type": "code",
   "execution_count": null,
   "metadata": {
    "colab": {
     "base_uri": "https://localhost:8080/",
     "height": 1000
    },
    "id": "4UODQYADRNnb",
    "outputId": "9965590a-6be6-45b1-8795-777d0e1701a2"
   },
   "outputs": [],
   "source": [
    "import matplotlib.pyplot as plt\n",
    "import seaborn as sns\n",
    "\n",
    "# Assuming 'new_data' is your DataFrame and it contains 'Qty' and 'Total Collected' columns\n",
    "\n",
    "# Box plot for 'Quantity'\n",
    "plt.figure(figsize=(10, 6))\n",
    "sns.boxplot(data=new_data, x='Qty')\n",
    "plt.title('Box Plot of Quantity')\n",
    "plt.show()\n",
    "\n",
    "# Box plot for 'Total Collected'\n",
    "plt.figure(figsize=(10, 6))\n",
    "sns.boxplot(data=new_data, x='Total Collected')\n",
    "plt.title('Box Plot of Total Collected')\n",
    "plt.show()"
   ]
  },
  {
   "cell_type": "markdown",
   "metadata": {},
   "source": [
    "**Box Plot Observations for Quantity:**\n",
    "* The majority of transactions involve purchasing 1-2 items.\n",
    "* There are outliers where up to 8 items are sold in a single transaction.\n",
    "\n",
    "**Box Plot Observations for Total Collected:**\n",
    "* Most transactions fall under the $50 mark.\n",
    "* There are notable outliers with transactions collecting up to $250.\n",
    "\n",
    "**Strategic Insights:**\n",
    "* The data suggests a concentrated cluster of typical transaction sizes and values, with occasional larger purchases.\n",
    "* This pattern presents an opportunity to explore product bundling, which can incentivize customers to increase the number of items per transaction, potentially moving the median transaction size upward.\n",
    "* Implementing tiered pricing strategies could cater to the varying spending capacities of customers. By creating pricing tiers, the bookstore can encourage customers to spend more by offering incremental value at each tier.\n",
    "\n",
    "**Recommendations:**\n",
    "* Develop bundle deals that combine high-selling items with complementary products to increase the average transaction size.\n",
    "* Consider implementing a rewards system where customers accumulate points or receive discounts as their purchase volume increases.\n",
    "* Analyze the outliers to understand the circumstances leading to higher-value transactions and replicate these conditions where possible.\n"
   ]
  },
  {
   "cell_type": "markdown",
   "metadata": {},
   "source": [
    "# Sales During Different Time Of The Day\n",
    "\n",
    "**Identifying Peak Sales Times to Optimize Operations:** A critical aspect of retail management is understanding customer traffic patterns throughout the day to optimize staffing, inventory, and marketing efforts. The heatmap provided gives a clear visual representation of sales at different times throughout the day.\n"
   ]
  },
  {
   "cell_type": "code",
   "execution_count": null,
   "metadata": {
    "colab": {
     "base_uri": "https://localhost:8080/",
     "height": 939
    },
    "id": "WXeEZQrOSdxP",
    "outputId": "2ce4f621-b58c-4d01-abe5-216121b44b58"
   },
   "outputs": [],
   "source": [
    "# Ensure 'Hour' extraction is correct\n",
    "new_data['Hour'] = new_data['Time'].apply(lambda t: t.hour)\n",
    "\n",
    "# Aggregate sales by hour\n",
    "hourly_sales = new_data.groupby('Hour')['Total Collected'].sum().reset_index()\n",
    "\n",
    "# Check if hourly_sales has data\n",
    "print(hourly_sales.head())\n",
    "\n",
    "# Create a pivot table for the heatmap\n",
    "pivot_table = hourly_sales.pivot_table(index='Hour', values='Total Collected', aggfunc='sum')\n",
    "\n",
    "# Check if pivot_table has data\n",
    "print(pivot_table.head())\n",
    "\n",
    "# Plotting the heatmap\n",
    "plt.figure(figsize=(12, 8))\n",
    "heatmap = sns.heatmap(pivot_table, annot=True, fmt=\".1f\", cmap=\"viridis\", linewidths=.5)\n",
    "plt.title('Heatmap of Sales During Different Times of the Day')\n",
    "plt.ylabel('Hour of Day')\n",
    "plt.xlabel('Total Sales')\n",
    "plt.show()"
   ]
  },
  {
   "cell_type": "markdown",
   "metadata": {},
   "source": [
    "**Key Insights from the Heatmap:**\n",
    "* The midday period from 12 PM to 3 PM shows the highest sales activity, indicating this is the peak time for customer purchases.\n",
    "* The early hours of the morning and later in the evening display significantly lower sales volumes.\n",
    "\n",
    "**Operational Recommendations:**\n",
    "* Staffing: Align staff schedules to ensure adequate coverage during peak times to handle the increased customer traffic and to enhance the customer service experience.\n",
    "* Inventory Management: Prepare for higher inventory turnover during these peak hours by ensuring that popular items are well-stocked and easily accessible.\n",
    "* Marketing Initiatives: Implement targeted marketing strategies such as lunchtime specials or midday flash sales to capitalize on the already high traffic and boost sales even further.\n",
    "\n",
    "**Strategic Marketing During Off-Peak Hours:**\n",
    "* To address the lower sales volumes during the early morning and late evening, consider introducing special promotions during these hours. Early bird discounts or late-night deals could attract more customers during these typically slower periods.\n",
    "* Explore the potential for events or workshops during off-peak hours, which could draw in customers and create additional sales opportunities outside the busiest hours.\n",
    "\n"
   ]
  },
  {
   "cell_type": "markdown",
   "metadata": {},
   "source": [
    "# **Conclusion**\n",
    "\n",
    "**Synthesizing Insights from Transaction Data Analysis at Books End**\n",
    "\n",
    "This project entailed a comprehensive analysis of transaction data from Books End to gain a deeper understanding of customer purchasing behavior and sales trends. The insights drawn from the data have illuminated several key aspects of the bookstore's operations and customer engagement.\n",
    "\n",
    "**Key Findings:**\n",
    "* Payment Methods: Cash and Visa emerged as the predominant payment methods used by customers. This finding points to the potential for developing strategic partnerships and crafting rewards programs that encourage repeat business and increase customer loyalty.\n",
    "* Sales Trends: Analysis revealed that Saturday is the peak day for sales, presenting a valuable opportunity to implement weekend-specific promotions aimed at boosting revenue.\n",
    "* Seasonal Variations: A notable slowdown in sales momentum was observed during October and November. This trend underscores the need for timely marketing interventions to revitalize sales during these months.\n",
    "\n",
    "**Strategic Recommendations:**\n",
    "* Develop strategic partnerships with payment providers and introduce rewards programs that align with the payment preferences of cash and Visa users.\n",
    "* Launch weekend-specific marketing promotions, leveraging the high traffic on Saturdays to increase sales and enhance the shopping experience.\n",
    "* Implement targeted marketing campaigns during the identified slow months of October and November. These could include special discounts, events, or loyalty perks to re-engage customers and stimulate purchasing activity.\n",
    "* Introduce special incentives on slower business days to distribute the customer traffic more evenly throughout the week and optimize sales potential.\n",
    "\n",
    "**Moving Forward:**\n",
    "* To maintain a competitive edge in the market, it is recommended that Books End engage in continuous data monitoring. This will enable the bookstore to remain agile, adapting its strategies in response to evolving sales patterns and market trends.\n",
    "\n",
    "By embracing data-driven decision-making and continuously refining its approach based on the insights gained, Books End can better cater to the needs of its customers and secure its market position.\n"
   ]
  },
  {
   "cell_type": "markdown",
   "metadata": {},
   "source": [
    "# **Future Scope**\n",
    "\n",
    "* Predictive Analytics: Utilizing machine learning to forecast future sales trends and customer behavior.\n",
    "* Customer Segmentation: Targeted marketing based on genres sold\n",
    "* Inventory Optimization: Applying data analytics to optimize stock levels, reduce overstock, and avoid stockouts based on genres sold\n",
    "* Chat bot: Building a Chat bot using prompt engineering for specific queries of customers\n",
    "* Integration with Other Data Sources: Combining sales data with external data sources like market trends, demographic information, or economic indicators to gain a more comprehensive business insight.\n"
   ]
  },
  {
   "cell_type": "markdown",
   "metadata": {},
   "source": [
    "# **References**\n",
    "\n",
    "**Data Sources:**\n",
    "* Books End Bookshop (2023). Transaction Data 2023.\n",
    "\n",
    "**Software and Libraries:**\n",
    "* Python Software Foundation. (2023). Python Language Reference, version 3.9. Retrieved from https://www.python.org\n",
    "* McKinney, W. (2023). pandas: Powerful Python data analysis toolkit, version 1.3.1. Retrieved from https://pandas.pydata.org\n",
    "\n",
    "**Literature:**\n",
    "* Severance, C. Python for Everybody: Exploring Data in Python 3 (ISBN : 978- 1530051120). https://www.py4e.com/book\n",
    "Open version https://books.trinket.io/pfe/index.html\n",
    "\n",
    "* McKinney, W. Python for Data Analysis, 3rd Edition (ISBN- 9781098104030). https://www.oreilly.com/library/view/python-for-data/9781098104023/\n",
    "Open version https://wesmckinney.com/book/\n",
    "\n",
    "* Data Wrangling with Python: Tips and Tools to Make Your Life Easier (ISBN-13: 978-1491948811) \n",
    "See https://www.oreilly.com/library/view/data-wrangling- with/9781491948804/\n",
    "\n"
   ]
  }
 ],
 "metadata": {
  "colab": {
   "provenance": []
  },
  "kernelspec": {
   "display_name": "Python 3 (ipykernel)",
   "language": "python",
   "name": "python3"
  },
  "language_info": {
   "codemirror_mode": {
    "name": "ipython",
    "version": 3
   },
   "file_extension": ".py",
   "mimetype": "text/x-python",
   "name": "python",
   "nbconvert_exporter": "python",
   "pygments_lexer": "ipython3",
   "version": "3.11.3"
  }
 },
 "nbformat": 4,
 "nbformat_minor": 4
}
